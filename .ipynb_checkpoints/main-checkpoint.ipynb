{
 "cells": [
  {
   "cell_type": "markdown",
   "metadata": {},
   "source": [
    "# Step 1: PDF file opening, reading and text extraction"
   ]
  },
  {
   "cell_type": "code",
   "execution_count": 28,
   "metadata": {},
   "outputs": [],
   "source": [
    "# Import required libraries\n",
    "import PyPDF2\n",
    "import textract\n",
    "import re\n",
    "import string\n",
    "import pandas as pd\n",
    "import matplotlib.pyplot as plt\n",
    "%matplotlib inline"
   ]
  },
  {
   "cell_type": "code",
   "execution_count": 29,
   "metadata": {},
   "outputs": [],
   "source": [
    "pdfFileObj = open(\"JIGNASHA VITHALANI_Python.pdf\",'rb')"
   ]
  },
  {
   "cell_type": "code",
   "execution_count": 30,
   "metadata": {},
   "outputs": [],
   "source": [
    "pdfReader = PyPDF2.PdfFileReader(pdfFileObj)"
   ]
  },
  {
   "cell_type": "code",
   "execution_count": 31,
   "metadata": {},
   "outputs": [],
   "source": [
    "num_pages = pdfReader.numPages\n"
   ]
  },
  {
   "cell_type": "code",
   "execution_count": 32,
   "metadata": {},
   "outputs": [],
   "source": [
    "count = 0"
   ]
  },
  {
   "cell_type": "code",
   "execution_count": 33,
   "metadata": {},
   "outputs": [],
   "source": [
    "text = \"\""
   ]
  },
  {
   "cell_type": "code",
   "execution_count": 34,
   "metadata": {},
   "outputs": [],
   "source": [
    "while count < num_pages:\n",
    "    pageObj = pdfReader.getPage(count)\n",
    "    count +=1\n",
    "    text += pageObj.extractText()\n"
   ]
  },
  {
   "cell_type": "code",
   "execution_count": 35,
   "metadata": {},
   "outputs": [
    {
     "name": "stdout",
     "output_type": "stream",
     "text": [
      "JIGNASHA VITHALANI Contact: +91-9177889519 E-mail: jignasha_86@yahoo.co.in FULL STACK DEVELOPER - CONSULTANT - TECHNICAL LEAD/ARCHITECT Offering 14 years of experience in all phases of SDLC, Design,Develop and Deployment, Also Worked as Individual contributor for developing applications from scratch ABOUT PROFILE & STRENGTHS ▪Proactive and Dynamic professional offering an experience of Web Application Development, Full Stack Applications , Mobile Applications , DevOps; expertise in latest cloud technologies; Can work with team or as individual contributor ▪Recently working on Java , Spring, Spring Boot & Python / Django based application as developer for        designing & coding applications from scratch or existing applications migration ▪Established credibility in spearheading the entire project management initiatives end-to-end devel- opment of software projects from inception, requirement specifications, planning, designing, imple- mentation, documentation and closure with cross-cultural teams with agile development ▪Adept at software development life cycle (SDLC) experience with Analysis, design, code, test & deployment; proficient in learning new technology and methods utmost fast ▪Expertise in LAMP Stack (P for PHP , Python, PERL), Open Source CMS or Frameworks; worked with multiple programming languages and multiple frameworks as developer ▪Very Good handle on issue fixing and giving right approach to solve problem, grabbing emerging technologies rapidly; ability to fix hard to fix technical issues; stick to work commitment & dedication on completions of tasks ▪Expertise in Product development as well as services based projects; completed 50+ products and applications from different domains like Ecommerce, B2B/B2C, Banking & Financial, Social Media, Cloud, Mobiles etc ▪Ability to work on multiple tasks and multiple projects at same time involving different technologies, experienced with programming concepts of OOP ,Data Structures,Micro services,Multi Threading/ Processing , Security, Networking etc ▪5 years experience working as Technical Lead / Architect; Handled team size upto 15+ people; Working in coding & development of software applications for entire 14 years; Worked parallelly on multiple applications involving different technologies and languages Total Experience - 14 years Skill wise Experience: Full stack - 14 Years Front-End Javascript/Jquery/CSS3/HTML5/LESS/Bootstrap – 12 years Python/Django - 5 Years PHP - 8 years Perl - 1 year Core Java/J2EE/Hibernate/Spring - 5 Years Cloud computing (AWS,VMware,OpenStack,Azure,PCF) – 5 years Node.js/Angular(1.7,2,4,5,6)/React – 3 years  Spring Boot– 2 year OpenStack - 3 years  Docker/Kubernetes - 1 year Android/IOS native applications – 3 Years NoSQLs- MongoDB,Cassandra,ElasticSearch - 3 years Relational Databases - MySQL/Postgres/Sql Server/Oracle - 12 years Magento - 1 Year C/C++/Objective-C - 1 year Dev-Ops/CI-CD - 1 Year Version Control - Git/SVN/Perforce/TFS - 10 years API Developer - 12 years Open sources PHP – Magento , Drupal , Wordpress , Joomla - 2 years Data Storages – Swift Stack Object Store , Ceph , NFS , LVM , SSD - 1 year Unit Test & Automated Testing – Cunit,PHPUnit, PyUnit,Temptest,Selenium,Jmeter - 1 year Security and Network Attacks – Basic Knowledge Used MVC Frameworks: Zend, Code igniter , CakePHP , Yii, Symfony, STRUTS, JSF , Django, Spring Boot, Flask - 10 years  Career History    14) Innova Solutions (Contract) August 2020 -  August 2021 Consultant (Lead Engineer) Technologies worked: React Js, Javascript, Magneto 2 , PHP PM tools: Git , Jira Description:  Working for changehealthcare client for admin portal development  13) TRICON INFOTECH , Banglore (Contract) January 2020 - March 2020 Consultant (Tech Lead) Technologies worked: Spring, Java , Spring Boot, Angular 4, Tomcat 7, Magento PM tools: Git, Jira Databases: MySQL, JCR Description: Worked on LRN (Legal Right Network) Inc Project for online learning platform, Project involved migrating Old LRN application Spring MVC monolithic application to microservice based Spring Boot applications , Worked for designing and developing course creation module with dynamic templates rendering for different types of courses  12) GENPACT (Contract Primus Global payroll),Banglore August 2018 – February 2019 Consultant (IC role) Technologies worked: Java , Spring Boot, Azure Cloud, Gradle, Angular 5, Node,js PM tools: Git, Jira Databases: MySQL Description: Worked as Individual Contributor for feature development on data preparation & data integrator product for Master Data Management, Added front-end & back-end side security GDPR measures and Azure Microsoft Authentication in front-end & back-end side 11) DELL EMC (Contract Rlabs payroll),Banglore March 2018 – June 2019 Senior Principle Engineer (IC role) Technologies worked: Java , Spring Boot, Spring Cloud, Core Java, Python/Django, ELK, Angular 4, Docker, Kubernetes PM tools: TFS, Ralley Databases: Elastic Search, Oracle, Postgres, MongoDB Description: Worked on DELL’s B2B back office revamp of applications which was in Oracle Omega, Developed new applications of AR Engineering and Veritas Project for PO Matching, Order and Invoice Management using \n",
      "PROFESSIONAL EXPERIENCEvarious Spring boot, Python, J2EE applications , Angular, Worked Individual Contributor for developing new Applications from scratch and hand-over fixes to internal team 10) TrilioData Inc (Contract),Hyderabad [Remote Work] May 2015 – December 2017 Senior Consultant / Technical Lead (Individual Contributor & Tech Architect) Technologies worked: Python, Django, OpenStack , FUSE, Cloudify, VMware, AWS , MongoDB , Cassandra, Libguestfs, ReactJs Data storages: Ceph , NFS , Swift Stack Object Store, LVM , SSD , XtremeIO , Rsync , NetApp Virtualization: KVM, ESXi, QEMU, Docker PM tools: Git , JIRA, OpenVPN, Softlayer, OVH Configuration Tools: Ansible , Puppet, Shell scripts CI Tools: Jenkins Unit Tests: PyUnit, Mock, Tox Description: Worked on Trilliodata cloud computing big data product based on OpenStack to take backup and restores Of openstack & VmWare virtualizations clouds Experience in virtualization through KVM and Qemu and managing Micro service architecture solely based on OpenStack platform for backup / restore of large VMs , Currently working on Backend development for OpenStack VMs backup & restore at large scale, enhancing & supporting advanced features, Architecting new requirements & improving performance, working on front-end interface using Django Have worked in setting up CI/CD using Jenkins , ansible, shell script for automating release and test cycles For project for production and test environments 9)DBS  Bank  (Contract),  Singapore October 2014 – February  2015  Senior  Consultant Technologies worked: PHP , Android , IOS Description: Worked on LAMP / Android / IOS application for DBS banking users DBS rewards applications , coupon redemptions, Worked on backend webservices for this application Along with mobile apps 8) ATLOGYS, New Delhi,India December 2013 – July 2014 Senior Technical Lead Technologies worked: Android, CakePHP , Amazon AWS, Redis, Cassandra, MongoDB Description: ▪Successfully executed multiple projects by handling team; handled coordination with the client for designing architecture and technicality of code. ▪Provided CTO level advice to clients and defined them processes and code architecture. ▪Lead the entire product lifecycle; handled feasibility through requirements definition, design, development, implementation, integration, quality assurance, launch, and production support. ▪Built competencies, business acumen and mentored to build winning teams. ▪Entrusted with defining and managing requirements, schedules, timelines, scope along with working with the multiple business groups and stakeholders in planning the project lifecycle deployment. ▪Efficiently managed the deployment phase of large scale projects/programs of varying complexity and accomplished project fielding / deployment on time 7) MINTSTREET, Gurgaon,India August 2013 – November 2013 Senior Software Development Manager Technologies worked: PHP , MySQL,HTML5 Description: ▪Worked on financial product of loans aggregations & campaigns and calculations of loans eligibility of customers depending on bank rules. ▪Change requests into product/application from various banking/financial clients like SCB(Standard chartered) , SBI , PNB, DHFL, MMM & various insurance companies 6) CLUBGECKO.COM, New Delhi,India April 2013 – August 2013 Senior Developer Technologies worked: Yii , Web services , Android , Redis , HTML5 , LESS Description: ▪Worked on the social network website development (from scratch) using Yii framework of PHP . ▪Handled code design application for large scale 5) SAMSUNG INDIA ELECTRONICS, Noida,India December 2011 – April 2013 Senior Software Engineer (SSE-2) Technologies worked: Struts, IOS , Android , JSF , PHP , C++ , Node.js , Java , DTV Stack , Smart TV Framework , Image processing PM Tools: ClearCase , ClearQuest , Perforce Description: ▪Managed responsibilities and followed-up every process of software development as per development model used within the organization. ▪Took initiatives for project, support team and contributed towards patents and conduct trainings. ▪Ensured that the projects are completed within the timelines; worked on Struts, Servlets, Iphone , Android , Node.js , C++ , PHP , Jquery for various projects ▪Monitored progress with respect to demand forecasts, time over-runs to ensure timely execution of projects and steered delivery management for technical deliverables of concurrent projects. ▪Handled design, coding and debugging applications in various software languages; conducted software analysis, code analysis, software review, system risk analysis & software reliability analysis. ▪Undertook code review of the application and extended post go-live and maintenance support to the client. 4) ZEON SOLUTIONS, Pune,India April 2011 – November 2011 Senior Software Engineer Technologies worked: Magento , PHP , MySQL , Flex Description: ▪Served as a Core Magento Developer; was involved in coordination with PL / PM for Project Execution. ▪Essayed a stellar role in: o.Magento Core Modules Extensions o.Creation of new modules, theme creation, new payment and shipping module creations, etc. o Version upgrades of Magento oExisting features customizations oWISIWYG interfaces using Customizable Products o.Multi-stores Creation 3) TRIFORCE CONSULTING, Ahmedabad,India February 2010 – January 2011 Tech Lead Technologies worked: PHP , MySQL,VB.NET, Jquery , Vecor graphics , Android , IOS Description: ▪Pivotal in Requirement Analysis, Project Estimation & Project’s successful execution; handled communication with offshore clients. ▪Managed the Individual Code Development & analysed the requirement on any technology while executing the project. 2) EBIZCHEM PVT. LTD., Ahmedabad (currently named as Maven Vista),India December 2008 – February 2010 Senior Programmer Technologies worked: Perl , MySQL , PHP Description: ▪Contributed significantly towards: o.Managing the entire gamut of activities pertaining to web development using PERL o.Handled individually for modules of Vendx Software which was used by companies like Bayer Corp Science, Pidilite, Jubilant, etc. for their inventory, sales or finance management ▪Looked after SRS, Programming & QA etc.; lead the team & handled all responsibilities of project from SRS to final Go Live 1) MAGNET TECHNOLOGIES, India September 2007 – November 2008 Software Engineer Technologies worked: LAMP & All opensource frameworks & major CMS EDUCATION DETAILS: BE (I.T.), 2007 – Dharmsinh Desai University(AAA+ rating);62% XII, 2003 - GSEB; 58.4% X, 2001 - GSEB; 83.57% PERSONAL DETAILS: Date of Birth: 28th May 1986 Gaps in Education/Career - No Gap  Languages Known: English, Hindi , Gujarati  References: Available on Request\n",
      "EDUCATIONAL DETAILS\n"
     ]
    }
   ],
   "source": [
    "print(text)"
   ]
  },
  {
   "cell_type": "markdown",
   "metadata": {},
   "source": [
    "# Step 2: Text cleaning"
   ]
  },
  {
   "cell_type": "code",
   "execution_count": 36,
   "metadata": {},
   "outputs": [],
   "source": [
    "# Convert all strings to lowercase\n",
    "text = text.lower()"
   ]
  },
  {
   "cell_type": "code",
   "execution_count": 37,
   "metadata": {},
   "outputs": [],
   "source": [
    "# Remove numbers\n",
    "text = re.sub(r'\\d+','',text)"
   ]
  },
  {
   "cell_type": "code",
   "execution_count": 38,
   "metadata": {},
   "outputs": [],
   "source": [
    "# Remove punctuation\n",
    "text = text.translate(str.maketrans('','',string.punctuation))"
   ]
  },
  {
   "cell_type": "markdown",
   "metadata": {},
   "source": [
    "# Step 3: Dictionary with key terms by area setup"
   ]
  },
  {
   "cell_type": "code",
   "execution_count": 39,
   "metadata": {},
   "outputs": [],
   "source": [
    "terms={'Education1':['BE','B.E','B.E.','MCA','M.C.A','B.Tech'],\n",
    "       'Education2':['M.C.A','MCA','MBA','M.B.A','MS','M.S','M.S.,'],\n",
    "       'Education3':['Diploma'],\n",
    "      'MandatorySkills1':['JAVA','CI/CD','SPRING BOOT','AWS','Python'],\n",
    "      'MandatorySkills2':['PySpark'],\n",
    "      'Optional_Skills1':['JavaScript','HTML','Angular','React','ReactJS']}"
   ]
  },
  {
   "cell_type": "markdown",
   "metadata": {},
   "source": [
    "Step 4: Scores calculation per area"
   ]
  },
  {
   "cell_type": "code",
   "execution_count": 40,
   "metadata": {},
   "outputs": [],
   "source": [
    "# Initializie score counters for each area\n",
    "edu1 = 0\n",
    "edu2 = 0\n",
    "edu3 = 0\n",
    "ms1 = 0\n",
    "ms2 = 0\n",
    "os1 = 0\n",
    "\n",
    "# Create an empty list where the scores will be stored\n",
    "scores = []\n",
    "\n",
    "# Obtain the scores for each area\n",
    "for area in terms.keys():\n",
    "        \n",
    "    if area == 'Education1':\n",
    "        for word in terms[area]:\n",
    "            if word in text:\n",
    "                edu1 +=10\n",
    "        scores.append(edu1)\n",
    "        \n",
    "    elif area == 'Education2':\n",
    "        for word in terms[area]:\n",
    "            if word in text:\n",
    "                edu2 +=5\n",
    "        scores.append(edu2)\n",
    "        \n",
    "    elif area == 'Education3':\n",
    "        for word in terms[area]:\n",
    "            if word in text:\n",
    "                edu3 +=2\n",
    "        scores.append(edu3)\n",
    "        \n",
    "    elif area == 'MandatorySkills1':\n",
    "        for word in terms[area]:\n",
    "            if word in text:\n",
    "                ms1 +=10\n",
    "        scores.append(ms1)\n",
    "        \n",
    "    elif area == 'MandatorySkills2':\n",
    "        for word in terms[area]:\n",
    "            if word in text:\n",
    "                ms2 +=5\n",
    "        scores.append(ms2)\n",
    "        \n",
    "    else:\n",
    "        for word in terms[area]:\n",
    "            if word in text:\n",
    "                os1 +=10\n",
    "        scores.append(os1)"
   ]
  },
  {
   "cell_type": "markdown",
   "metadata": {},
   "source": [
    "# Step 5: Sorted data frame for final scores creation"
   ]
  },
  {
   "cell_type": "code",
   "execution_count": 41,
   "metadata": {},
   "outputs": [
    {
     "data": {
      "text/html": [
       "<div>\n",
       "<style scoped>\n",
       "    .dataframe tbody tr th:only-of-type {\n",
       "        vertical-align: middle;\n",
       "    }\n",
       "\n",
       "    .dataframe tbody tr th {\n",
       "        vertical-align: top;\n",
       "    }\n",
       "\n",
       "    .dataframe thead th {\n",
       "        text-align: right;\n",
       "    }\n",
       "</style>\n",
       "<table border=\"1\" class=\"dataframe\">\n",
       "  <thead>\n",
       "    <tr style=\"text-align: right;\">\n",
       "      <th></th>\n",
       "      <th>score</th>\n",
       "    </tr>\n",
       "  </thead>\n",
       "  <tbody>\n",
       "    <tr>\n",
       "      <th>Education1</th>\n",
       "      <td>0</td>\n",
       "    </tr>\n",
       "    <tr>\n",
       "      <th>Education2</th>\n",
       "      <td>0</td>\n",
       "    </tr>\n",
       "    <tr>\n",
       "      <th>Education3</th>\n",
       "      <td>0</td>\n",
       "    </tr>\n",
       "    <tr>\n",
       "      <th>MandatorySkills1</th>\n",
       "      <td>0</td>\n",
       "    </tr>\n",
       "    <tr>\n",
       "      <th>MandatorySkills2</th>\n",
       "      <td>0</td>\n",
       "    </tr>\n",
       "    <tr>\n",
       "      <th>Optional_Skills1</th>\n",
       "      <td>0</td>\n",
       "    </tr>\n",
       "  </tbody>\n",
       "</table>\n",
       "</div>"
      ],
      "text/plain": [
       "                  score\n",
       "Education1            0\n",
       "Education2            0\n",
       "Education3            0\n",
       "MandatorySkills1      0\n",
       "MandatorySkills2      0\n",
       "Optional_Skills1      0"
      ]
     },
     "execution_count": 41,
     "metadata": {},
     "output_type": "execute_result"
    }
   ],
   "source": [
    "# Create a data frame with the scores summary\n",
    "summary = pd.DataFrame(scores,index=terms.keys(),columns=['score']).sort_values(by='score',ascending=False)\n",
    "summary"
   ]
  },
  {
   "cell_type": "code",
   "execution_count": 42,
   "metadata": {},
   "outputs": [
    {
     "name": "stdout",
     "output_type": "stream",
     "text": [
      "[0, 0, 0, 0, 0, 0]\n"
     ]
    }
   ],
   "source": [
    "print(scores)"
   ]
  },
  {
   "cell_type": "markdown",
   "metadata": {},
   "source": [
    "# Step 6: Pie chart creation"
   ]
  },
  {
   "cell_type": "code",
   "execution_count": 44,
   "metadata": {},
   "outputs": [
    {
     "data": {
      "image/png": "[encoded data removed]",
      "text/plain": [
       "<Figure size 720x720 with 1 Axes>"
      ]
     },
     "metadata": {},
     "output_type": "display_data"
    }
   ],
   "source": [
    "# Create pie chart visualization\n",
    "pie = plt.figure(figsize=(10,10))\n",
    "plt.pie(summary['score'], labels=summary.index, explode = (0.1,0,0,0,0,0), autopct='%1.0f%%',shadow=True,startangle=90)\n",
    "plt.title('Industrial Engineering Candidate - Resume Decomposition by Areas')\n",
    "plt.axis('equal')\n",
    "plt.show()\n",
    "\n",
    "# Save pie chart as a .png file\n",
    "pie.savefig('resume_screening_results.png')"
   ]
  },
  {
   "cell_type": "code",
   "execution_count": null,
   "metadata": {},
   "outputs": [],
   "source": []
  },
  {
   "cell_type": "code",
   "execution_count": null,
   "metadata": {},
   "outputs": [],
   "source": []
  }
 ],
 "metadata": {
  "kernelspec": {
   "display_name": "Python 3",
   "language": "python",
   "name": "python3"
  },
  "language_info": {
   "codemirror_mode": {
    "name": "ipython",
    "version": 3
   },
   "file_extension": ".py",
   "mimetype": "text/x-python",
   "name": "python",
   "nbconvert_exporter": "python",
   "pygments_lexer": "ipython3",
   "version": "3.8.3"
  },
  "vscode": {
   "interpreter": {
    "hash": "e42bb1f4819cd272d0360dd77537d56181f9988ea932b4fba12f9610f7023298"
   }
  }
 },
 "nbformat": 4,
 "nbformat_minor": 4
}
