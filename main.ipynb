{
 "cells": [
  {
   "cell_type": "markdown",
   "metadata": {},
   "source": [
    "# Step 1: PDF file opening, reading and text extraction"
   ]
  },
  {
   "cell_type": "code",
   "execution_count": 1,
   "metadata": {},
   "outputs": [],
   "source": [
    "# Import required libraries\n",
    "import PyPDF2\n",
    "import textract\n",
    "import re\n",
    "import string\n",
    "import pandas as pd\n",
    "import matplotlib.pyplot as plt\n",
    "%matplotlib inline"
   ]
  },
  {
   "cell_type": "code",
   "execution_count": 17,
   "metadata": {},
   "outputs": [],
   "source": [
    "pdfFileObj = open(\"Roberto Salazar - Resume.pdf\",'rb')"
   ]
  },
  {
   "cell_type": "code",
   "execution_count": 18,
   "metadata": {},
   "outputs": [],
   "source": [
    "pdfReader = PyPDF2.PdfFileReader(pdfFileObj)"
   ]
  },
  {
   "cell_type": "code",
   "execution_count": 19,
   "metadata": {},
   "outputs": [],
   "source": [
    "num_pages = pdfReader.numPages\n"
   ]
  },
  {
   "cell_type": "code",
   "execution_count": 20,
   "metadata": {},
   "outputs": [],
   "source": [
    "count = 0"
   ]
  },
  {
   "cell_type": "code",
   "execution_count": 21,
   "metadata": {},
   "outputs": [],
   "source": [
    "text = \"\""
   ]
  },
  {
   "cell_type": "code",
   "execution_count": 22,
   "metadata": {},
   "outputs": [],
   "source": [
    "while count < num_pages:\n",
    "    pageObj = pdfReader.getPage(count)\n",
    "    count +=1\n",
    "    text += pageObj.extractText()\n"
   ]
  },
  {
   "cell_type": "code",
   "execution_count": 23,
   "metadata": {},
   "outputs": [
    {
     "name": "stdout",
     "output_type": "stream",
     "text": [
      " Roberto Salazar 21 Fayette Street Apt. #3L, Brooklyn, NY 11206  (607) 422-0469 | rsalaza4@binghamton.edu | linkedin.com/in/roberto-salazar-reyna  EDUCATION   State University of New York at Binghamton                                                                                                                                           Binghamton, NY Master of Science (MS) in Industrial and Systems Engineering                                                                                   August 2018 – Expected August 2020                                                        GPA: 4.00/4.00 | Alpha Pi Mu Industrial Engineering Honor Society  University of Monterrey (UDEM)                                                                                                                                                                 Monterrey, Mexico Bachelor of Science (BS) in Industrial and Systems Engineering                                                                                              August 2015 – December 2019 GPA: 3.97/4.00 | Cum Laude | Dean’s List: Fall 2015 – Spring 2019  TECHNICAL SKILLS   Languages: Python, VBA Statistical Software: R, Minitab Optimization Software: GAMS, AMPL Engineering Tools: Tableau, SQL, MS Visio, AutoCAD, Siemens NX, Simio, Microsoft Office  PROFESSIONAL EXPERIENCE   Memorial Sloan Kettering Cancer Center                                                                                                                                                        New York, NY   Process Improvement Engineer                                                  July 2019 – Present • Oversaw quality data collection and reporting processes; turned data into valuable business insights through digital dashboards  • Facilitated and managed multiple quality and process improvement projects adopting lean, six sigma, DMAIC and PDSA frameworks • Served as an expert resource on quality analysis and investigation; led out Root Cause Analyses on adverse events and near misses using techniques and tools such as process mapping, Pareto chart, Ishikawa diagram, correlation analyses and 5 whys • Developed a machine learning classification model using text mining to predict the occurrence of adverse events based on patients’ medical conditions • Delivered high quality ad-hoc reports on productivity, staff performance and system value using advanced statistical programming and business analytic skills  State University of New York at Binghamton                                                                                                                                             Binghamton, NY Optimization and Operations Research Teaching Assistant                              January 2019 – May 2019 • Instructed Optimization and Operations Research undergraduate course to 40 students by designing lectures, leading discussions, demonstrating procedures, fielding questions and grading students’ assignments and tests • Provided students with tutoring sessions during office hours and regular out of class assistance  GE Healthcare                                                                                                                                                                                               Monterrey, Mexico Supply Chain Summer Intern                       June 2018 – July 2018 • Monitored proactively operations for changing business requirements and process bottlenecks • Analyzed workforce utilization, facility layout and operational data such as production costs and production schedules to determine efficient utilization of workers and equipment • Helped defining, designing and improving the distribution standard operational processes of suppliers to maximize process efficiency and productivity • Implemented change initiatives projects to achieve desired results by supporting and monitoring the execution of transformational change and processes • Ensured an optimal fit between people, processes, technology and tools through direct observations, data collection and statistical analysis of processes    British American Tobacco                                                                                                                      Monterrey, Mexico Operations Management and Safety Intern                                                                                July 2017 – May 2018 • Performed Process Failure Modes and Effects Analyses (PFMEA) to evaluate and correct processes proactively preventing failures to occur • Conducted Manufacturing Process Risk Assessments (MPRA) to explore ways to avoid unnecessary costs, time delays and poor-quality products • Produced databases, tools and reports for storing, summarizing, visualizing and root causing safety reports data; analyzed patterns and trends within datasets for the design and development of preventive and corrective actions plans • Redesigned and executed with a cross-functional management team the Employee Safety Program through machinery and personnel audits; reduced production stoppages related with human accidents   Spitzer Industries                                                                                                                                                                                                 Houston, TX  Data Analyst Summer Intern                                                                                     June 2016 – July 2016 • Developed, maintained and improved manufacturing metrics and reporting tools • Prepared financial and operational data for annual business plan and production forecasts; presented report to top management • Analyzed projects costs, key process indicators and resources distribution for future optimization based on demand prediction modeling  CERTIFICATIONS   Lean Six Sigma Green Belt                                                                                                                                                                           Binghamton, NY   Certifier: State University of New York at Binghamton                                                                                                                                                 April 2019 Internal Auditor ISO 9001:2015                                                                       Monterrey, Mexico Certifier: Société de Génerale de Surveillance                               December 2017  PUBLICATIONS   Data Analytics for Industrial and Systems Engineers                                                                                                                                    New York, NY   Publisher: Medium – Profile: https://medium.com/@rsalaza4                                                                                                                 October 2019 – Present                                    • Published articles related with data science and data analytics applied into industrial and systems engineering contexts (e.g. lean, six sigma, quality assurance, process improvement, inventory management and operations research) \n"
     ]
    }
   ],
   "source": [
    "print(text)"
   ]
  },
  {
   "cell_type": "markdown",
   "metadata": {},
   "source": [
    "# Step 2: Text cleaning"
   ]
  },
  {
   "cell_type": "code",
   "execution_count": 24,
   "metadata": {},
   "outputs": [],
   "source": [
    "# Convert all strings to lowercase\n",
    "text = text.lower()"
   ]
  },
  {
   "cell_type": "code",
   "execution_count": 25,
   "metadata": {},
   "outputs": [],
   "source": [
    "# Remove numbers\n",
    "text = re.sub(r'\\d+','',text)"
   ]
  },
  {
   "cell_type": "code",
   "execution_count": 26,
   "metadata": {},
   "outputs": [],
   "source": [
    "# Remove punctuation\n",
    "text = text.translate(str.maketrans('','',string.punctuation))"
   ]
  },
  {
   "cell_type": "markdown",
   "metadata": {},
   "source": [
    "# Step 3: Dictionary with key terms by area setup"
   ]
  },
  {
   "cell_type": "code",
   "execution_count": 27,
   "metadata": {},
   "outputs": [],
   "source": [
    "terms={'Education1':['BE','B.E','B.E.','MCA','M.C.A','B.Tech'],\n",
    "       'Education2':['M.C.A','MCA','MBA','M.B.A','MS','M.S','M.S.,'],\n",
    "       'Education3':['Diploma'],\n",
    "      'MandatorySkills1':['JAVA','CI/CD','SPRING BOOT','AWS','Python'],\n",
    "      'MandatorySkills2':['PySpark'],\n",
    "      'Optional_Skills1':['JavaScript','HTML','Angular','React','ReactJS']}"
   ]
  },
  {
   "cell_type": "markdown",
   "metadata": {},
   "source": [
    "Step 4: Scores calculation per area"
   ]
  },
  {
   "cell_type": "code",
   "execution_count": 28,
   "metadata": {},
   "outputs": [],
   "source": [
    "# Initializie score counters for each area\n",
    "edu1 = 0\n",
    "edu2 = 0\n",
    "edu3 = 0\n",
    "ms1 = 0\n",
    "ms2 = 0\n",
    "os1 = 0\n",
    "\n",
    "# Create an empty list where the scores will be stored\n",
    "scores = []\n",
    "\n",
    "# Obtain the scores for each area\n",
    "for area in terms.keys():\n",
    "        \n",
    "    if area == 'Education1':\n",
    "        for word in terms[area]:\n",
    "            if word in text:\n",
    "                edu1 +=10\n",
    "        scores.append(edu1)\n",
    "        \n",
    "    elif area == 'Education2':\n",
    "        for word in terms[area]:\n",
    "            if word in text:\n",
    "                edu2 +=5\n",
    "        scores.append(edu2)\n",
    "        \n",
    "    elif area == 'Education3':\n",
    "        for word in terms[area]:\n",
    "            if word in text:\n",
    "                edu3 +=2\n",
    "        scores.append(edu3)\n",
    "        \n",
    "    elif area == 'MandatorySkills1':\n",
    "        for word in terms[area]:\n",
    "            if word in text:\n",
    "                ms1 +=10\n",
    "        scores.append(ms1)\n",
    "        \n",
    "    elif area == 'MandatorySkills2':\n",
    "        for word in terms[area]:\n",
    "            if word in text:\n",
    "                ms2 +=5\n",
    "        scores.append(ms2)\n",
    "        \n",
    "    else:\n",
    "        for word in terms[area]:\n",
    "            if word in text:\n",
    "                os1 +=10\n",
    "        scores.append(os1)"
   ]
  },
  {
   "cell_type": "markdown",
   "metadata": {},
   "source": [
    "# Step 5: Sorted data frame for final scores creation"
   ]
  },
  {
   "cell_type": "code",
   "execution_count": 29,
   "metadata": {},
   "outputs": [
    {
     "data": {
      "text/html": [
       "<div>\n",
       "<style scoped>\n",
       "    .dataframe tbody tr th:only-of-type {\n",
       "        vertical-align: middle;\n",
       "    }\n",
       "\n",
       "    .dataframe tbody tr th {\n",
       "        vertical-align: top;\n",
       "    }\n",
       "\n",
       "    .dataframe thead th {\n",
       "        text-align: right;\n",
       "    }\n",
       "</style>\n",
       "<table border=\"1\" class=\"dataframe\">\n",
       "  <thead>\n",
       "    <tr style=\"text-align: right;\">\n",
       "      <th></th>\n",
       "      <th>score</th>\n",
       "    </tr>\n",
       "  </thead>\n",
       "  <tbody>\n",
       "    <tr>\n",
       "      <th>Education1</th>\n",
       "      <td>0</td>\n",
       "    </tr>\n",
       "    <tr>\n",
       "      <th>Education2</th>\n",
       "      <td>0</td>\n",
       "    </tr>\n",
       "    <tr>\n",
       "      <th>Education3</th>\n",
       "      <td>0</td>\n",
       "    </tr>\n",
       "    <tr>\n",
       "      <th>MandatorySkills1</th>\n",
       "      <td>0</td>\n",
       "    </tr>\n",
       "    <tr>\n",
       "      <th>MandatorySkills2</th>\n",
       "      <td>0</td>\n",
       "    </tr>\n",
       "    <tr>\n",
       "      <th>Optional_Skills1</th>\n",
       "      <td>0</td>\n",
       "    </tr>\n",
       "  </tbody>\n",
       "</table>\n",
       "</div>"
      ],
      "text/plain": [
       "                  score\n",
       "Education1            0\n",
       "Education2            0\n",
       "Education3            0\n",
       "MandatorySkills1      0\n",
       "MandatorySkills2      0\n",
       "Optional_Skills1      0"
      ]
     },
     "execution_count": 29,
     "metadata": {},
     "output_type": "execute_result"
    }
   ],
   "source": [
    "# Create a data frame with the scores summary\n",
    "summary = pd.DataFrame(scores,index=terms.keys(),columns=['score']).sort_values(by='score',ascending=False)\n",
    "summary"
   ]
  },
  {
   "cell_type": "code",
   "execution_count": 30,
   "metadata": {},
   "outputs": [
    {
     "name": "stdout",
     "output_type": "stream",
     "text": [
      "[0, 0, 0, 0, 0, 0]\n"
     ]
    }
   ],
   "source": [
    "print(scores)"
   ]
  },
  {
   "cell_type": "markdown",
   "metadata": {},
   "source": [
    "# Step 6: Pie chart creation"
   ]
  },
  {
   "cell_type": "code",
   "execution_count": 31,
   "metadata": {},
   "outputs": [
    {
     "data": {
      "image/png": "[encoded data removed]",
      "text/plain": [
       "<Figure size 720x720 with 1 Axes>"
      ]
     },
     "metadata": {},
     "output_type": "display_data"
    }
   ],
   "source": [
    "# Create pie chart visualization\n",
    "pie = plt.figure(figsize=(10,10))\n",
    "plt.pie(summary['score'], labels=summary.index, explode = (0.1,0,0,0,0,0), autopct='%1.0f%%',shadow=True,startangle=90)\n",
    "plt.title('Industrial Engineering Candidate - Resume Decomposition by Areas')\n",
    "plt.axis('equal')\n",
    "plt.show()\n",
    "\n",
    "# Save pie chart as a .png file\n",
    "pie.savefig('resume_screening_results.png')"
   ]
  },
  {
   "cell_type": "code",
   "execution_count": null,
   "metadata": {},
   "outputs": [],
   "source": []
  },
  {
   "cell_type": "code",
   "execution_count": null,
   "metadata": {},
   "outputs": [],
   "source": []
  }
 ],
 "metadata": {
  "kernelspec": {
   "display_name": "Python 3",
   "language": "python",
   "name": "python3"
  },
  "language_info": {
   "codemirror_mode": {
    "name": "ipython",
    "version": 3
   },
   "file_extension": ".py",
   "mimetype": "text/x-python",
   "name": "python",
   "nbconvert_exporter": "python",
   "pygments_lexer": "ipython3",
   "version": "3.8.3"
  },
  "vscode": {
   "interpreter": {
    "hash": "e42bb1f4819cd272d0360dd77537d56181f9988ea932b4fba12f9610f7023298"
   }
  }
 },
 "nbformat": 4,
 "nbformat_minor": 4
}
